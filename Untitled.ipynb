{
 "cells": [
  {
   "cell_type": "code",
   "execution_count": 42,
   "id": "9eea109e",
   "metadata": {},
   "outputs": [],
   "source": [
    "import random\n",
    "from matplotlib import pyplot as plt"
   ]
  },
  {
   "cell_type": "code",
   "execution_count": 43,
   "id": "bab4652d",
   "metadata": {},
   "outputs": [],
   "source": [
    "def mid(n, a, b):\n",
    "    sum = 0\n",
    "    for i in range(0,n):\n",
    "        sum = sum + random.randint(a, b)\n",
    "    return sum / n"
   ]
  },
  {
   "cell_type": "code",
   "execution_count": 55,
   "id": "cf4fb1db",
   "metadata": {},
   "outputs": [],
   "source": [
    "n = [el for el in range(1,1000)]"
   ]
  },
  {
   "cell_type": "code",
   "execution_count": null,
   "id": "25087a0e",
   "metadata": {},
   "outputs": [],
   "source": []
  },
  {
   "cell_type": "code",
   "execution_count": 62,
   "id": "2dbe201e",
   "metadata": {},
   "outputs": [],
   "source": [
    "a = -652\n",
    "b = 328\n",
    "mids = [mid(el, a, b) for el in n]"
   ]
  },
  {
   "cell_type": "code",
   "execution_count": 63,
   "id": "9e690bd6",
   "metadata": {},
   "outputs": [
    {
     "data": {
      "text/plain": [
       "[<matplotlib.lines.Line2D at 0x7fcc40d43130>]"
      ]
     },
     "execution_count": 63,
     "metadata": {},
     "output_type": "execute_result"
    },
    {
     "data": {
      "image/png": "[encoded data removed]",
      "text/plain": [
       "<Figure size 432x288 with 1 Axes>"
      ]
     },
     "metadata": {
      "needs_background": "light"
     },
     "output_type": "display_data"
    }
   ],
   "source": [
    "plt.plot(n, mids)"
   ]
  },
  {
   "cell_type": "code",
   "execution_count": 61,
   "id": "258c354f",
   "metadata": {},
   "outputs": [
    {
     "data": {
      "text/plain": [
       "-162.0"
      ]
     },
     "execution_count": 61,
     "metadata": {},
     "output_type": "execute_result"
    }
   ],
   "source": [
    "(a+b)/2"
   ]
  },
  {
   "cell_type": "code",
   "execution_count": null,
   "id": "46d90876",
   "metadata": {},
   "outputs": [],
   "source": []
  }
 ],
 "metadata": {
  "kernelspec": {
   "display_name": "Python 3 (ipykernel)",
   "language": "python",
   "name": "python3"
  },
  "language_info": {
   "codemirror_mode": {
    "name": "ipython",
    "version": 3
   },
   "file_extension": ".py",
   "mimetype": "text/x-python",
   "name": "python",
   "nbconvert_exporter": "python",
   "pygments_lexer": "ipython3",
   "version": "3.9.12"
  }
 },
 "nbformat": 4,
 "nbformat_minor": 5
}
