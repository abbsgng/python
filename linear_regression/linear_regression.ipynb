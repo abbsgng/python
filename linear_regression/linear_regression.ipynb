{
 "cells": [
  {
   "cell_type": "code",
   "execution_count": 36,
   "id": "ccb08754",
   "metadata": {},
   "outputs": [],
   "source": [
    "import pandas as pd\n",
    "import numpy as np\n",
    "from matplotlib import pyplot as plt"
   ]
  },
  {
   "cell_type": "code",
   "execution_count": 37,
   "id": "2d35f736",
   "metadata": {},
   "outputs": [],
   "source": [
    "data = pd.read_csv('states.csv')\n",
    "n = data.shape[0]"
   ]
  },
  {
   "cell_type": "code",
   "execution_count": 38,
   "id": "cc0d082e",
   "metadata": {},
   "outputs": [],
   "source": [
    "graduation = data['hs_grad']\n",
    "poverty = data['poverty']"
   ]
  },
  {
   "cell_type": "code",
   "execution_count": 39,
   "id": "06c2ab17",
   "metadata": {},
   "outputs": [
    {
     "data": {
      "text/plain": [
       "Text(0, 0.5, 'poverty')"
      ]
     },
     "execution_count": 39,
     "metadata": {},
     "output_type": "execute_result"
    },
    {
     "data": {
      "image/png": "[encoded data removed]",
      "text/plain": [
       "<Figure size 432x288 with 1 Axes>"
      ]
     },
     "metadata": {
      "needs_background": "light"
     },
     "output_type": "display_data"
    }
   ],
   "source": [
    "plt.scatter(graduation, poverty)\n",
    "plt.xlabel('graduation')\n",
    "plt.ylabel('poverty')"
   ]
  },
  {
   "cell_type": "code",
   "execution_count": 40,
   "id": "38550ca4",
   "metadata": {},
   "outputs": [],
   "source": [
    "graduation_mean = graduation.mean()\n",
    "poverty_mean = poverty.mean()\n",
    "graduation_variance = sum((graduation - graduation_mean) ** 2) / n\n",
    "poverty_variance = sum((poverty - poverty_mean) ** 2) / n\n",
    "cov = sum((graduation - graduation_mean) * (poverty - poverty_mean)) / n\n",
    "sd_graduation = graduation_variance ** 0.5\n",
    "sd_poverty = poverty_variance ** 0.5\n",
    "cor = cov / (sd_graduation * sd_poverty)"
   ]
  },
  {
   "cell_type": "code",
   "execution_count": 41,
   "id": "66cdeacc",
   "metadata": {},
   "outputs": [],
   "source": [
    "slope = (sd_poverty / sd_graduation) * cor\n",
    "intercept = poverty_mean - slope * graduation_mean\n",
    "r_sq = cor ** 2"
   ]
  },
  {
   "cell_type": "code",
   "execution_count": 42,
   "id": "5588b51d",
   "metadata": {},
   "outputs": [
    {
     "name": "stdout",
     "output_type": "stream",
     "text": [
      "Коэффициент детерминации: 0.5577972503105934\n",
      "Свободный коэффициент: 64.78096577010206 \n",
      "Угловой коэффициент: -0.6212167177940103\n"
     ]
    }
   ],
   "source": [
    "print('Коэффициент детерминации: {}\\nСвободный коэффициент: {} \\nУгловой коэффициент: {}'.format(r_sq, intercept, slope))"
   ]
  },
  {
   "cell_type": "code",
   "execution_count": 43,
   "id": "cc3d9421",
   "metadata": {},
   "outputs": [
    {
     "data": {
      "text/plain": [
       "Text(0, 0.5, 'poverty')"
      ]
     },
     "execution_count": 43,
     "metadata": {},
     "output_type": "execute_result"
    },
    {
     "data": {
      "image/png": "[encoded data removed]",
      "text/plain": [
       "<Figure size 432x288 with 1 Axes>"
      ]
     },
     "metadata": {
      "needs_background": "light"
     },
     "output_type": "display_data"
    }
   ],
   "source": [
    "x = np.array([72, 98])\n",
    "plt.scatter(graduation, poverty)\n",
    "plt.plot(x, intercept + slope * x)\n",
    "plt.grid()\n",
    "plt.title('y = {} x + {}'.format(slope, intercept))\n",
    "plt.xlabel('graduation')\n",
    "plt.ylabel('poverty')"
   ]
  },
  {
   "cell_type": "code",
   "execution_count": 44,
   "id": "9ba9d048",
   "metadata": {},
   "outputs": [],
   "source": [
    "from sklearn.linear_model import LinearRegression"
   ]
  },
  {
   "cell_type": "code",
   "execution_count": 45,
   "id": "707fa573",
   "metadata": {},
   "outputs": [],
   "source": [
    "y = data.poverty\n",
    "x = data.hs_grad.values.reshape(-1,1)\n",
    "model = LinearRegression().fit(x, y)"
   ]
  },
  {
   "cell_type": "code",
   "execution_count": 46,
   "id": "52b611d2",
   "metadata": {},
   "outputs": [],
   "source": [
    "r_sq_sk = model.score(x, y)\n",
    "intercept_sk = model.intercept_\n",
    "slope_sk = model.coef_"
   ]
  },
  {
   "cell_type": "code",
   "execution_count": 48,
   "id": "50e9be4c",
   "metadata": {},
   "outputs": [
    {
     "name": "stdout",
     "output_type": "stream",
     "text": [
      "Коэффициент детерминации: 0.5577972503105937\n",
      "Свободный коэффициент: 64.7809657701021 \n",
      "Угловой коэффициент: -0.6212167177940107\n"
     ]
    }
   ],
   "source": [
    "print('Коэффициент детерминации: {}\\nСвободный коэффициент: {} \\nУгловой коэффициент: {}'.format(r_sq_sk, intercept_sk, slope_sk[0]))"
   ]
  },
  {
   "cell_type": "code",
   "execution_count": null,
   "id": "2e6511fe",
   "metadata": {},
   "outputs": [],
   "source": []
  }
 ],
 "metadata": {
  "kernelspec": {
   "display_name": "Python 3 (ipykernel)",
   "language": "python",
   "name": "python3"
  },
  "language_info": {
   "codemirror_mode": {
    "name": "ipython",
    "version": 3
   },
   "file_extension": ".py",
   "mimetype": "text/x-python",
   "name": "python",
   "nbconvert_exporter": "python",
   "pygments_lexer": "ipython3",
   "version": "3.9.12"
  }
 },
 "nbformat": 4,
 "nbformat_minor": 5
}
