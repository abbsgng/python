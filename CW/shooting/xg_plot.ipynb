{
 "cells": [
  {
   "cell_type": "code",
   "execution_count": 42,
   "id": "58ddd779",
   "metadata": {},
   "outputs": [],
   "source": [
    "import matplotlib.pyplot as plt\n",
    "from matplotlib.patches import Arc\n",
    "from mplsoccer.pitch import Pitch\n",
    "import pandas as pd\n",
    "from pandas import json_normalize\n",
    "import numpy as np\n",
    "import requests"
   ]
  },
  {
   "cell_type": "code",
   "execution_count": 43,
   "id": "3ba1ea69",
   "metadata": {},
   "outputs": [],
   "source": [
    "events = requests.get('https://raw.githubusercontent.com/statsbomb/open-data/master/data/events/9948.json')\n",
    "events = events.json()\n",
    "\n",
    "df = json_normalize(events, sep=\"_\")"
   ]
  },
  {
   "cell_type": "code",
   "execution_count": 44,
   "id": "7dac4fe0",
   "metadata": {},
   "outputs": [],
   "source": [
    "barcelona = df.loc[(df['team_name']=='Barcelona')]\n",
    "RealSociedad = df.loc[(df['team_name']=='Real Sociedad')]"
   ]
  },
  {
   "cell_type": "code",
   "execution_count": 46,
   "id": "133bfb1f",
   "metadata": {},
   "outputs": [
    {
     "name": "stderr",
     "output_type": "stream",
     "text": [
      "C:\\Users\\FF34~1\\AppData\\Local\\Temp/ipykernel_2308/1555200624.py:1: SettingWithCopyWarning: \n",
      "A value is trying to be set on a copy of a slice from a DataFrame.\n",
      "Try using .loc[row_indexer,col_indexer] = value instead\n",
      "\n",
      "See the caveats in the documentation: https://pandas.pydata.org/pandas-docs/stable/user_guide/indexing.html#returning-a-view-versus-a-copy\n",
      "  barcelona['shot_statsbomb_xg'] = pd.to_numeric(barcelona['shot_statsbomb_xg'], downcast = \"float\")\n",
      "C:\\Users\\FF34~1\\AppData\\Local\\Temp/ipykernel_2308/1555200624.py:2: SettingWithCopyWarning: \n",
      "A value is trying to be set on a copy of a slice from a DataFrame.\n",
      "Try using .loc[row_indexer,col_indexer] = value instead\n",
      "\n",
      "See the caveats in the documentation: https://pandas.pydata.org/pandas-docs/stable/user_guide/indexing.html#returning-a-view-versus-a-copy\n",
      "  RealSociedad['shot_statsbomb_xg'] = pd.to_numeric(RealSociedad['shot_statsbomb_xg'], downcast = \"float\")\n",
      "C:\\Users\\FF34~1\\AppData\\Local\\Temp/ipykernel_2308/1555200624.py:4: SettingWithCopyWarning: \n",
      "A value is trying to be set on a copy of a slice from a DataFrame.\n",
      "Try using .loc[row_indexer,col_indexer] = value instead\n",
      "\n",
      "See the caveats in the documentation: https://pandas.pydata.org/pandas-docs/stable/user_guide/indexing.html#returning-a-view-versus-a-copy\n",
      "  barcelona['minute'] = pd.to_numeric(barcelona['minute'], downcast = \"integer\")\n",
      "C:\\Users\\FF34~1\\AppData\\Local\\Temp/ipykernel_2308/1555200624.py:5: SettingWithCopyWarning: \n",
      "A value is trying to be set on a copy of a slice from a DataFrame.\n",
      "Try using .loc[row_indexer,col_indexer] = value instead\n",
      "\n",
      "See the caveats in the documentation: https://pandas.pydata.org/pandas-docs/stable/user_guide/indexing.html#returning-a-view-versus-a-copy\n",
      "  RealSociedad['minute'] = pd.to_numeric(RealSociedad['minute'], downcast = \"integer\")\n",
      "C:\\Users\\FF34~1\\AppData\\Local\\Temp/ipykernel_2308/1555200624.py:7: SettingWithCopyWarning: \n",
      "A value is trying to be set on a copy of a slice from a DataFrame.\n",
      "Try using .loc[row_indexer,col_indexer] = value instead\n",
      "\n",
      "See the caveats in the documentation: https://pandas.pydata.org/pandas-docs/stable/user_guide/indexing.html#returning-a-view-versus-a-copy\n",
      "  barcelona['cumsum_xg'] = barcelona['shot_statsbomb_xg'].cumsum()\n",
      "C:\\Users\\FF34~1\\AppData\\Local\\Temp/ipykernel_2308/1555200624.py:8: SettingWithCopyWarning: \n",
      "A value is trying to be set on a copy of a slice from a DataFrame.\n",
      "Try using .loc[row_indexer,col_indexer] = value instead\n",
      "\n",
      "See the caveats in the documentation: https://pandas.pydata.org/pandas-docs/stable/user_guide/indexing.html#returning-a-view-versus-a-copy\n",
      "  RealSociedad['cumsum_xg'] = RealSociedad['shot_statsbomb_xg'].cumsum()\n"
     ]
    }
   ],
   "source": [
    "barcelona['shot_statsbomb_xg'] = pd.to_numeric(barcelona['shot_statsbomb_xg'], downcast = \"float\")\n",
    "RealSociedad['shot_statsbomb_xg'] = pd.to_numeric(RealSociedad['shot_statsbomb_xg'], downcast = \"float\")\n",
    "\n",
    "barcelona['minute'] = pd.to_numeric(barcelona['minute'], downcast = \"integer\")\n",
    "RealSociedad['minute'] = pd.to_numeric(RealSociedad['minute'], downcast = \"integer\")\n",
    "\n",
    "barcelona['cumsum_xg'] = barcelona['shot_statsbomb_xg'].cumsum()\n",
    "RealSociedad['cumsum_xg'] = RealSociedad['shot_statsbomb_xg'].cumsum()"
   ]
  },
  {
   "cell_type": "code",
   "execution_count": 95,
   "id": "25cbd9e3",
   "metadata": {},
   "outputs": [
    {
     "data": {
      "text/plain": [
       "[0.0,\n",
       " 0.02409906,\n",
       " 0.072645895,\n",
       " 0.109080106,\n",
       " 0.29333842,\n",
       " 0.40759218,\n",
       " 0.50751585,\n",
       " 0.5293103,\n",
       " 0.5567703,\n",
       " 0.654847,\n",
       " 0.8785792,\n",
       " 0.9276674,\n",
       " 1.0622987]"
      ]
     },
     "execution_count": 95,
     "metadata": {},
     "output_type": "execute_result"
    }
   ],
   "source": [
    "barcelona_df = barcelona[['minute', 'cumsum_xg']]\n",
    "RealSociedad_df = RealSociedad[['minute', 'cumsum_xg']]\n",
    "\n",
    "bar_min = [0]\n",
    "rs_min = [0]\n",
    "bar_xg = [0.0]\n",
    "rs_xg = [0.0]\n",
    "\n",
    "for x in range(len(barcelona_df['minute'])):\n",
    "    if ~np.isnan(barcelona_df['cumsum_xg'].iloc[x]):\n",
    "        bar_xg.append(barcelona_df['cumsum_xg'].iloc[x])\n",
    "        bar_min.append(barcelona_df['minute'].iloc[x])\n",
    "    \n",
    "for x in range(len(RealSociedad_df['minute'])):\n",
    "    if ~np.isnan(RealSociedad_df['cumsum_xg'].iloc[x]):\n",
    "        rs_xg.append(RealSociedad_df['cumsum_xg'].iloc[x])\n",
    "        rs_min.append(RealSociedad_df['minute'].iloc[x])\n",
    "bar_xg"
   ]
  },
  {
   "cell_type": "code",
   "execution_count": 98,
   "id": "1b99d28a",
   "metadata": {},
   "outputs": [
    {
     "data": {
      "text/plain": [
       "[<matplotlib.lines.Line2D at 0x27ec4e0ef70>]"
      ]
     },
     "execution_count": 98,
     "metadata": {},
     "output_type": "execute_result"
    },
    {
     "data": {
      "image/png": "[encoded data removed]",
      "text/plain": [
       "<Figure size 864x504 with 1 Axes>"
      ]
     },
     "metadata": {},
     "output_type": "display_data"
    }
   ],
   "source": [
    "fig, ax = plt.subplots(figsize=(12,7))\n",
    "fig.set_facecolor('black')\n",
    "ax.patch.set_facecolor('black')\n",
    "\n",
    "ax.grid(ls = 'dotted',lw = .5,color = 'lightgrey',axis = 'y',zorder = 1)\n",
    "\n",
    "plt.xticks([0,15,30,45,60,75,90],color = 'white')\n",
    "plt.yticks(color = 'white')\n",
    "plt.xlabel('Minute',color = 'white',fontsize = 16)\n",
    "plt.ylabel('xG',color = 'white',fontsize = 16)\n",
    " \n",
    "ax.step(bar_min, bar_xg, color = 'white', linewidth = 5,where='post')    \n",
    "ax.step(rs_min, rs_xg, color = 'red', linewidth = 5,where='post')\n"
   ]
  },
  {
   "cell_type": "code",
   "execution_count": null,
   "id": "c1800cad",
   "metadata": {},
   "outputs": [],
   "source": []
  }
 ],
 "metadata": {
  "kernelspec": {
   "display_name": "Python 3 (ipykernel)",
   "language": "python",
   "name": "python3"
  },
  "language_info": {
   "codemirror_mode": {
    "name": "ipython",
    "version": 3
   },
   "file_extension": ".py",
   "mimetype": "text/x-python",
   "name": "python",
   "nbconvert_exporter": "python",
   "pygments_lexer": "ipython3",
   "version": "3.9.1"
  }
 },
 "nbformat": 4,
 "nbformat_minor": 5
}
