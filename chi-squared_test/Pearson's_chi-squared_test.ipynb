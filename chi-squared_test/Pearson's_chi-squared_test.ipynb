{
 "cells": [
  {
   "cell_type": "markdown",
   "id": "bac9cd71",
   "metadata": {},
   "source": [
    "# Математическая статистика\n",
    "## Шульжик Дмитрий\n",
    "#### 4 курс 1 группа\n",
    "#### 12.01.2022"
   ]
  },
  {
   "cell_type": "code",
   "execution_count": 65,
   "id": "d5fd660b",
   "metadata": {},
   "outputs": [],
   "source": [
    "import numpy as np\n",
    "import matplotlib.pyplot as plt\n",
    "import pandas as pd\n",
    "import scipy.stats as stats"
   ]
  },
  {
   "cell_type": "markdown",
   "id": "ca687518",
   "metadata": {},
   "source": [
    "## Дискретное распределение №1"
   ]
  },
  {
   "cell_type": "code",
   "execution_count": 66,
   "id": "5b17a6df",
   "metadata": {},
   "outputs": [],
   "source": [
    "data = np.load('distributions/1_discrete.npy')\n",
    "size = data.size"
   ]
  },
  {
   "cell_type": "markdown",
   "id": "c809537f",
   "metadata": {},
   "source": [
    "###  Числовые характеристики"
   ]
  },
  {
   "cell_type": "code",
   "execution_count": 67,
   "id": "f170bdf1",
   "metadata": {},
   "outputs": [],
   "source": [
    "data_mean = data.mean() # выборочное среднее\n",
    "\n",
    "second_moment = sum((data - data_mean) ** 2) / size # второй выборочный центральный момент\n",
    "third_moment = sum((data - data_mean) ** 3) / size # третий выборочный центральный момент\n",
    "fourth_moment = sum((data - data_mean) ** 4) / size # четвертый выборочный центральный момент\n",
    "\n",
    "data_dispersion = (size / (size - 1)) * second_moment # несмещенная выборочная дисперсия\n",
    "data_std =  data_dispersion ** 0.5 # среднеквадратическое отклонение\n",
    "\n",
    "data_median = np.median(data) # медиана\n",
    "data_moda = np.argmax(np.bincount(data)) # мода\n",
    "\n",
    "data_asymmetry = third_moment / (data_std ** 3) # коэффициент асимметрии\n",
    "data_excess = fourth_moment / (data_std ** 4) # коэффициент эксцесса"
   ]
  },
  {
   "cell_type": "code",
   "execution_count": 68,
   "id": "97848f9b",
   "metadata": {},
   "outputs": [
    {
     "name": "stdout",
     "output_type": "stream",
     "text": [
      " Выборочное среднее: 41.998433 \n",
      " Второй выборочный центральный момент: 41.991734544487066 \n",
      " Третий выборочный центральный момент: 42.96273214802355 \n",
      " Четвертый выборочный центральный момент: 5325.017576762405 \n",
      " Несмещенная выборочная дисперсия: 41.9917765362636 \n",
      " Среднеквадратическое отклонение: 6.480106213347401 \n",
      " Медиана: 42.0 \n",
      " Мода: 42 \n",
      " Асимметрия: 0.15788668956734572 \n",
      " Эксцесс: 3.019899904579502\n"
     ]
    }
   ],
   "source": [
    "print (' Выборочное среднее: {} \\n Второй выборочный центральный момент: {} \\n Третий выборочный центральный момент: {} \\n Четвертый выборочный центральный момент: {} \\n Несмещенная выборочная дисперсия: {} \\n Среднеквадратическое отклонение: {} \\n Медиана: {} \\n Мода: {} \\n Асимметрия: {} \\n Эксцесс: {}'.format(data_mean, second_moment, third_moment,\n",
    "                            fourth_moment, data_dispersion,data_std,\n",
    "                            data_median, data_moda, data_asymmetry, data_excess))"
   ]
  },
  {
   "cell_type": "markdown",
   "id": "73334922",
   "metadata": {},
   "source": [
    "## Проверка гипотезы о распределении генеральной совокупности по закону Пуассона\n",
    "### Критерий Пирсона"
   ]
  },
  {
   "cell_type": "markdown",
   "id": "ed335e40",
   "metadata": {},
   "source": [
    "#### Правило Стёрджеса"
   ]
  },
  {
   "cell_type": "code",
   "execution_count": 69,
   "id": "ca154eaf",
   "metadata": {},
   "outputs": [],
   "source": [
    "delta = round((max(data) - min(data)) / (1 + np.math.log2(size)))"
   ]
  },
  {
   "cell_type": "code",
   "execution_count": 70,
   "id": "6af01655",
   "metadata": {},
   "outputs": [
    {
     "data": {
      "image/png": "[encoded data removed]",
      "text/plain": [
       "<Figure size 432x288 with 1 Axes>"
      ]
     },
     "metadata": {
      "needs_background": "light"
     },
     "output_type": "display_data"
    }
   ],
   "source": [
    "frequencies = plt.hist(data, bins=np.arange(min(data), max(data) + delta - 1, delta))[0] # частоты\n",
    "variation_series = plt.hist(data, bins=np.arange(min(data), max(data) - 1, delta))[1] # вариационный ряд"
   ]
  },
  {
   "cell_type": "code",
   "execution_count": 71,
   "id": "12d4254c",
   "metadata": {},
   "outputs": [
    {
     "data": {
      "text/html": [
       "<div>\n",
       "<style scoped>\n",
       "    .dataframe tbody tr th:only-of-type {\n",
       "        vertical-align: middle;\n",
       "    }\n",
       "\n",
       "    .dataframe tbody tr th {\n",
       "        vertical-align: top;\n",
       "    }\n",
       "\n",
       "    .dataframe thead th {\n",
       "        text-align: right;\n",
       "    }\n",
       "</style>\n",
       "<table border=\"1\" class=\"dataframe\">\n",
       "  <thead>\n",
       "    <tr style=\"text-align: right;\">\n",
       "      <th></th>\n",
       "      <th>14</th>\n",
       "      <th>17</th>\n",
       "      <th>20</th>\n",
       "      <th>23</th>\n",
       "      <th>26</th>\n",
       "      <th>29</th>\n",
       "      <th>32</th>\n",
       "      <th>35</th>\n",
       "      <th>38</th>\n",
       "      <th>41</th>\n",
       "      <th>44</th>\n",
       "      <th>47</th>\n",
       "      <th>50</th>\n",
       "      <th>53</th>\n",
       "      <th>56</th>\n",
       "      <th>59</th>\n",
       "      <th>62</th>\n",
       "      <th>65</th>\n",
       "      <th>68</th>\n",
       "      <th>71</th>\n",
       "    </tr>\n",
       "  </thead>\n",
       "  <tbody>\n",
       "    <tr>\n",
       "      <th>Частота</th>\n",
       "      <td>8.0</td>\n",
       "      <td>47.0</td>\n",
       "      <td>455.0</td>\n",
       "      <td>2715.0</td>\n",
       "      <td>11130.0</td>\n",
       "      <td>33268.0</td>\n",
       "      <td>73379.0</td>\n",
       "      <td>126844.0</td>\n",
       "      <td>170539.0</td>\n",
       "      <td>183375.0</td>\n",
       "      <td>159185.0</td>\n",
       "      <td>113860.0</td>\n",
       "      <td>68151.0</td>\n",
       "      <td>34485.0</td>\n",
       "      <td>14996.0</td>\n",
       "      <td>5353.0</td>\n",
       "      <td>1626.0</td>\n",
       "      <td>458.0</td>\n",
       "      <td>107.0</td>\n",
       "      <td>18.0</td>\n",
       "    </tr>\n",
       "  </tbody>\n",
       "</table>\n",
       "</div>"
      ],
      "text/plain": [
       "          14    17     20      23       26       29       32        35  \\\n",
       "Частота  8.0  47.0  455.0  2715.0  11130.0  33268.0  73379.0  126844.0   \n",
       "\n",
       "               38        41        44        47       50       53       56  \\\n",
       "Частота  170539.0  183375.0  159185.0  113860.0  68151.0  34485.0  14996.0   \n",
       "\n",
       "             59      62     65     68    71  \n",
       "Частота  5353.0  1626.0  458.0  107.0  18.0  "
      ]
     },
     "execution_count": 71,
     "metadata": {},
     "output_type": "execute_result"
    }
   ],
   "source": [
    "pd.DataFrame(frequencies, variation_series, columns = ['Частота']).T"
   ]
  },
  {
   "cell_type": "markdown",
   "id": "bef02dfa",
   "metadata": {},
   "source": [
    "##### Число степеней свободы"
   ]
  },
  {
   "cell_type": "code",
   "execution_count": 93,
   "id": "ad0a8bb4",
   "metadata": {},
   "outputs": [
    {
     "name": "stdout",
     "output_type": "stream",
     "text": [
      "19\n"
     ]
    }
   ],
   "source": [
    "k = variation_series.size - 1\n",
    "print(k)"
   ]
  },
  {
   "cell_type": "markdown",
   "id": "f8d8864d",
   "metadata": {},
   "source": [
    "##### Уровень значимости\n",
    "p = 0.95\n",
    "##### Хи-квадрат\n",
    "$\\chi_k^2 = 30.1$"
   ]
  },
  {
   "cell_type": "code",
   "execution_count": 95,
   "id": "9d4235ae",
   "metadata": {},
   "outputs": [],
   "source": [
    "chi_k_p = 30.1 "
   ]
  },
  {
   "cell_type": "code",
   "execution_count": 96,
   "id": "c27de1e6",
   "metadata": {},
   "outputs": [],
   "source": [
    "alpha = 0.05\n",
    "def poisson(x, λ=1):\n",
    "    return ((λ ** x) * np.exp(-λ)) / np.math.factorial(x)"
   ]
  },
  {
   "cell_type": "code",
   "execution_count": 97,
   "id": "4ac2048f",
   "metadata": {},
   "outputs": [],
   "source": [
    "expected_frequencies = np.array([sum(poisson(element + i, data_mean) for i in range(0, delta)) * size  for element in variation_series])"
   ]
  },
  {
   "cell_type": "code",
   "execution_count": 98,
   "id": "ab4bf17f",
   "metadata": {},
   "outputs": [
    {
     "name": "stdout",
     "output_type": "stream",
     "text": [
      "29.73787930662049\n"
     ]
    }
   ],
   "source": [
    "X = sum(((frequencies - expected_frequencies) ** 2) / expected_frequencies)\n",
    "print(X)"
   ]
  },
  {
   "cell_type": "code",
   "execution_count": 99,
   "id": "4948cc9b",
   "metadata": {},
   "outputs": [
    {
     "data": {
      "text/plain": [
       "True"
      ]
     },
     "execution_count": 99,
     "metadata": {},
     "output_type": "execute_result"
    }
   ],
   "source": [
    "X < chi_k_p"
   ]
  },
  {
   "cell_type": "markdown",
   "id": "d6ef3222",
   "metadata": {},
   "source": [
    "## Непрерывное распределение №2"
   ]
  },
  {
   "cell_type": "code",
   "execution_count": 18,
   "id": "430aa8ac",
   "metadata": {},
   "outputs": [],
   "source": [
    "data = np.load('distributions/2_continuous.npy')\n",
    "size = data.size"
   ]
  },
  {
   "cell_type": "markdown",
   "id": "fadda646",
   "metadata": {},
   "source": [
    "###  Числовые характеристики"
   ]
  },
  {
   "cell_type": "code",
   "execution_count": 19,
   "id": "e0045e1b",
   "metadata": {},
   "outputs": [],
   "source": [
    "data_mean = data.mean() # выборочное среднее\n",
    "\n",
    "second_moment = sum((data - data_mean) ** 2) / size # второй выборочный центральный момент\n",
    "third_moment = sum((data - data_mean) ** 3) / size # третий выборочный центральный момент\n",
    "fourth_moment = sum((data - data_mean) ** 4) / size # четвертый выборочный центральный момент\n",
    "\n",
    "data_dispersion = (size / (size - 1)) * second_moment # несмещенная выборочная дисперсия\n",
    "data_std =  data_dispersion ** 0.5 # среднеквадратическое отклонение\n",
    "\n",
    "data_median = np.median(data) # медиана\n",
    "\n",
    "data_asymmetry = third_moment / (data_std ** 3) # коэффициент асимметрии\n",
    "data_excess = fourth_moment / (data_std ** 4) # коэффициент эксцесса"
   ]
  },
  {
   "cell_type": "code",
   "execution_count": 292,
   "id": "1a1bac4e",
   "metadata": {},
   "outputs": [
    {
     "name": "stdout",
     "output_type": "stream",
     "text": [
      "Выборочное среднее:  60.009488311983354\n",
      "Второй выборочный центральный момент:  719.4899403199785\n",
      "Третий выборочный центральный момент:  17252.10784273003\n",
      "Четвертый выборочный центральный момент:  2169983.2692477736\n",
      "Несмещенная выборочная дисперсия:  719.4906598106382\n",
      "Среднеквадратическое отклонение:  26.82332305682199\n",
      "Медиана:  56.03575838731679\n",
      "Асимметрия:  0.8939318757459171\n",
      "Эксцесс:  4.191853194363005\n"
     ]
    }
   ],
   "source": [
    "print('Выборочное среднее: ', data_mean)\n",
    "print('Второй выборочный центральный момент: ', second_moment)\n",
    "print('Третий выборочный центральный момент: ', third_moment)\n",
    "print('Четвертый выборочный центральный момент: ', fourth_moment)\n",
    "print('Несмещенная выборочная дисперсия: ', data_dispersion)\n",
    "print('Среднеквадратическое отклонение: ', data_std)\n",
    "print('Медиана: ', data_median)\n",
    "print('Асимметрия: ', data_asymmetry)\n",
    "print('Эксцесс: ', data_excess)"
   ]
  },
  {
   "cell_type": "markdown",
   "id": "9c5aa04e",
   "metadata": {},
   "source": [
    "## Проверка гипотезы о распределении генеральной совокупности \n",
    "### Критерий Пирсона"
   ]
  },
  {
   "cell_type": "markdown",
   "id": "c39aded7",
   "metadata": {},
   "source": [
    "#### Правило Стёрджеса"
   ]
  },
  {
   "cell_type": "code",
   "execution_count": 299,
   "id": "633e648f",
   "metadata": {},
   "outputs": [],
   "source": [
    "delta = (max(data) - min(data)) / (1 + np.math.log2(size))\n",
    "print(delta)"
   ]
  },
  {
   "cell_type": "code",
   "execution_count": 300,
   "id": "44dcb9aa",
   "metadata": {},
   "outputs": [
    {
     "data": {
      "image/png": "[encoded data removed]",
      "text/plain": [
       "<Figure size 432x288 with 1 Axes>"
      ]
     },
     "metadata": {
      "needs_background": "light"
     },
     "output_type": "display_data"
    }
   ],
   "source": [
    "frequencies = plt.hist(data, bins = np.arange(min(data), max(data) + 1 + delta , delta))[0] # частоты\n",
    "variation_series = plt.hist(data, bins = np.arange(min(data), max(data) + 1 , delta))[1] # вариационный ряд"
   ]
  },
  {
   "cell_type": "code",
   "execution_count": 301,
   "id": "6278ab24",
   "metadata": {},
   "outputs": [
    {
     "data": {
      "text/html": [
       "<div>\n",
       "<style scoped>\n",
       "    .dataframe tbody tr th:only-of-type {\n",
       "        vertical-align: middle;\n",
       "    }\n",
       "\n",
       "    .dataframe tbody tr th {\n",
       "        vertical-align: top;\n",
       "    }\n",
       "\n",
       "    .dataframe thead th {\n",
       "        text-align: right;\n",
       "    }\n",
       "</style>\n",
       "<table border=\"1\" class=\"dataframe\">\n",
       "  <thead>\n",
       "    <tr style=\"text-align: right;\">\n",
       "      <th></th>\n",
       "      <th>1.858583</th>\n",
       "      <th>14.814648</th>\n",
       "      <th>27.770713</th>\n",
       "      <th>40.726778</th>\n",
       "      <th>53.682843</th>\n",
       "      <th>66.638908</th>\n",
       "      <th>79.594973</th>\n",
       "      <th>92.551038</th>\n",
       "      <th>105.507103</th>\n",
       "      <th>118.463168</th>\n",
       "      <th>...</th>\n",
       "      <th>157.331363</th>\n",
       "      <th>170.287428</th>\n",
       "      <th>183.243493</th>\n",
       "      <th>196.199558</th>\n",
       "      <th>209.155623</th>\n",
       "      <th>222.111688</th>\n",
       "      <th>235.067753</th>\n",
       "      <th>248.023818</th>\n",
       "      <th>260.979882</th>\n",
       "      <th>273.935947</th>\n",
       "    </tr>\n",
       "  </thead>\n",
       "  <tbody>\n",
       "    <tr>\n",
       "      <th>Частота</th>\n",
       "      <td>8527.0</td>\n",
       "      <td>76917.0</td>\n",
       "      <td>168568.0</td>\n",
       "      <td>209085.0</td>\n",
       "      <td>187998.0</td>\n",
       "      <td>139553.0</td>\n",
       "      <td>91779.0</td>\n",
       "      <td>54904.0</td>\n",
       "      <td>30970.0</td>\n",
       "      <td>16128.0</td>\n",
       "      <td>...</td>\n",
       "      <td>1887.0</td>\n",
       "      <td>855.0</td>\n",
       "      <td>390.0</td>\n",
       "      <td>171.0</td>\n",
       "      <td>79.0</td>\n",
       "      <td>28.0</td>\n",
       "      <td>17.0</td>\n",
       "      <td>6.0</td>\n",
       "      <td>3.0</td>\n",
       "      <td>0.0</td>\n",
       "    </tr>\n",
       "  </tbody>\n",
       "</table>\n",
       "<p>1 rows × 22 columns</p>\n",
       "</div>"
      ],
      "text/plain": [
       "         1.858583    14.814648   27.770713   40.726778   53.682843   \\\n",
       "Частота      8527.0     76917.0    168568.0    209085.0    187998.0   \n",
       "\n",
       "         66.638908   79.594973   92.551038   105.507103  118.463168  ...  \\\n",
       "Частота    139553.0     91779.0     54904.0     30970.0     16128.0  ...   \n",
       "\n",
       "         157.331363  170.287428  183.243493  196.199558  209.155623  \\\n",
       "Частота      1887.0       855.0       390.0       171.0        79.0   \n",
       "\n",
       "         222.111688  235.067753  248.023818  260.979882  273.935947  \n",
       "Частота        28.0        17.0         6.0         3.0         0.0  \n",
       "\n",
       "[1 rows x 22 columns]"
      ]
     },
     "execution_count": 301,
     "metadata": {},
     "output_type": "execute_result"
    }
   ],
   "source": [
    "pd.DataFrame(frequencies, variation_series, columns = ['Частота']).T"
   ]
  },
  {
   "cell_type": "markdown",
   "id": "05b81246",
   "metadata": {},
   "source": [
    "##### Число степеней свободы"
   ]
  },
  {
   "cell_type": "code",
   "execution_count": 302,
   "id": "328e2126",
   "metadata": {},
   "outputs": [
    {
     "name": "stdout",
     "output_type": "stream",
     "text": [
      "20\n"
     ]
    }
   ],
   "source": [
    "k = variation_series.size - 2\n",
    "print(k)"
   ]
  },
  {
   "cell_type": "markdown",
   "id": "736da48a",
   "metadata": {},
   "source": [
    "## Непрерывное распределение №3"
   ]
  },
  {
   "cell_type": "code",
   "execution_count": 311,
   "id": "6ca6ec3d",
   "metadata": {},
   "outputs": [],
   "source": [
    "data = np.load('distributions/3_continuous.npy')\n",
    "size = data.size"
   ]
  },
  {
   "cell_type": "markdown",
   "id": "5f1f4710",
   "metadata": {},
   "source": [
    "###  Числовые характеристики"
   ]
  },
  {
   "cell_type": "code",
   "execution_count": 312,
   "id": "286864c7",
   "metadata": {},
   "outputs": [],
   "source": [
    "data_mean = data.mean() # выборочное среднее\n",
    "\n",
    "second_moment = sum((data - data_mean) ** 2) / size # второй выборочный центральный момент\n",
    "third_moment = sum((data - data_mean) ** 3) / size # третий выборочный центральный момент\n",
    "fourth_moment = sum((data - data_mean) ** 4) / size # четвертый выборочный центральный момент\n",
    "\n",
    "data_dispersion = (size / (size - 1)) * second_moment # несмещенная выборочная дисперсия\n",
    "data_std =  data_dispersion ** 0.5 # среднеквадратическое отклонение\n",
    "\n",
    "data_median = np.median(data) # медиана\n",
    "\n",
    "data_asymmetry = third_moment / (data_std ** 3) # коэффициент асимметрии\n",
    "data_excess = fourth_moment / (data_std ** 4) # коэффициент эксцесса"
   ]
  },
  {
   "cell_type": "code",
   "execution_count": 313,
   "id": "bf2ac269",
   "metadata": {},
   "outputs": [
    {
     "name": "stdout",
     "output_type": "stream",
     "text": [
      "Выборочное среднее:  0.29423835800334897\n",
      "Второй выборочный центральный момент:  0.011539073599220942\n",
      "Третий выборочный центральный момент:  0.0005020182721310613\n",
      "Четвертый выборочный центральный момент:  0.0003918146233682603\n",
      "Несмещенная выборочная дисперсия:  0.011539085138306081\n",
      "Среднеквадратическое отклонение:  0.10742013376600348\n",
      "Медиана:  0.28589959209396476\n",
      "Асимметрия:  0.4050069333920556\n",
      "Эксцесс:  2.942645090091734\n"
     ]
    }
   ],
   "source": [
    "print('Выборочное среднее: ', data_mean)\n",
    "print('Второй выборочный центральный момент: ', second_moment)\n",
    "print('Третий выборочный центральный момент: ', third_moment)\n",
    "print('Четвертый выборочный центральный момент: ', fourth_moment)\n",
    "print('Несмещенная выборочная дисперсия: ', data_dispersion)\n",
    "print('Среднеквадратическое отклонение: ', data_std)\n",
    "print('Медиана: ', data_median)\n",
    "print('Асимметрия: ', data_asymmetry)\n",
    "print('Эксцесс: ', data_excess)"
   ]
  },
  {
   "cell_type": "markdown",
   "id": "7544a353",
   "metadata": {},
   "source": [
    "## Проверка гипотезы о распределении генеральной совокупности \n",
    "### Критерий Пирсона"
   ]
  },
  {
   "cell_type": "markdown",
   "id": "0effa91c",
   "metadata": {},
   "source": [
    "#### Правило Стёрджеса"
   ]
  },
  {
   "cell_type": "code",
   "execution_count": 319,
   "id": "85a02bc8",
   "metadata": {},
   "outputs": [
    {
     "name": "stdout",
     "output_type": "stream",
     "text": [
      "0.039203098949428354\n"
     ]
    }
   ],
   "source": [
    "delta = (max(data) - min(data)) / (1 + np.math.log2(size))\n",
    "print(delta)"
   ]
  },
  {
   "cell_type": "code",
   "execution_count": 320,
   "id": "b251a889",
   "metadata": {},
   "outputs": [
    {
     "data": {
      "image/png": "[encoded data removed]",
      "text/plain": [
       "<Figure size 432x288 with 1 Axes>"
      ]
     },
     "metadata": {
      "needs_background": "light"
     },
     "output_type": "display_data"
    }
   ],
   "source": [
    "frequencies = plt.hist(data, bins = np.arange(min(data), max(data) + 1 + delta , delta))[0] # частоты\n",
    "variation_series = plt.hist(data, bins = np.arange(min(data), max(data) + 1 , delta))[1] # вариационный ряд"
   ]
  },
  {
   "cell_type": "code",
   "execution_count": 321,
   "id": "527cbe42",
   "metadata": {},
   "outputs": [
    {
     "data": {
      "text/html": [
       "<div>\n",
       "<style scoped>\n",
       "    .dataframe tbody tr th:only-of-type {\n",
       "        vertical-align: middle;\n",
       "    }\n",
       "\n",
       "    .dataframe tbody tr th {\n",
       "        vertical-align: top;\n",
       "    }\n",
       "\n",
       "    .dataframe thead th {\n",
       "        text-align: right;\n",
       "    }\n",
       "</style>\n",
       "<table border=\"1\" class=\"dataframe\">\n",
       "  <thead>\n",
       "    <tr style=\"text-align: right;\">\n",
       "      <th></th>\n",
       "      <th>0.015552</th>\n",
       "      <th>0.054755</th>\n",
       "      <th>0.093958</th>\n",
       "      <th>0.133161</th>\n",
       "      <th>0.172364</th>\n",
       "      <th>0.211567</th>\n",
       "      <th>0.250770</th>\n",
       "      <th>0.289973</th>\n",
       "      <th>0.329177</th>\n",
       "      <th>0.368380</th>\n",
       "      <th>...</th>\n",
       "      <th>1.466066</th>\n",
       "      <th>1.505270</th>\n",
       "      <th>1.544473</th>\n",
       "      <th>1.583676</th>\n",
       "      <th>1.622879</th>\n",
       "      <th>1.662082</th>\n",
       "      <th>1.701285</th>\n",
       "      <th>1.740488</th>\n",
       "      <th>1.779691</th>\n",
       "      <th>1.818894</th>\n",
       "    </tr>\n",
       "  </thead>\n",
       "  <tbody>\n",
       "    <tr>\n",
       "      <th>Частота</th>\n",
       "      <td>1306.0</td>\n",
       "      <td>12037.0</td>\n",
       "      <td>38237.0</td>\n",
       "      <td>74414.0</td>\n",
       "      <td>111166.0</td>\n",
       "      <td>134666.0</td>\n",
       "      <td>142769.0</td>\n",
       "      <td>133034.0</td>\n",
       "      <td>112979.0</td>\n",
       "      <td>87807.0</td>\n",
       "      <td>...</td>\n",
       "      <td>0.0</td>\n",
       "      <td>0.0</td>\n",
       "      <td>0.0</td>\n",
       "      <td>0.0</td>\n",
       "      <td>0.0</td>\n",
       "      <td>0.0</td>\n",
       "      <td>0.0</td>\n",
       "      <td>0.0</td>\n",
       "      <td>0.0</td>\n",
       "      <td>0.0</td>\n",
       "    </tr>\n",
       "  </tbody>\n",
       "</table>\n",
       "<p>1 rows × 47 columns</p>\n",
       "</div>"
      ],
      "text/plain": [
       "         0.015552  0.054755  0.093958  0.133161  0.172364  0.211567  0.250770  \\\n",
       "Частота    1306.0   12037.0   38237.0   74414.0  111166.0  134666.0  142769.0   \n",
       "\n",
       "         0.289973  0.329177  0.368380  ...  1.466066  1.505270  1.544473  \\\n",
       "Частота  133034.0  112979.0   87807.0  ...       0.0       0.0       0.0   \n",
       "\n",
       "         1.583676  1.622879  1.662082  1.701285  1.740488  1.779691  1.818894  \n",
       "Частота       0.0       0.0       0.0       0.0       0.0       0.0       0.0  \n",
       "\n",
       "[1 rows x 47 columns]"
      ]
     },
     "execution_count": 321,
     "metadata": {},
     "output_type": "execute_result"
    }
   ],
   "source": [
    "pd.DataFrame(frequencies, variation_series, columns = ['Частота']).T"
   ]
  },
  {
   "cell_type": "code",
   "execution_count": null,
   "id": "65613023",
   "metadata": {},
   "outputs": [],
   "source": []
  }
 ],
 "metadata": {
  "kernelspec": {
   "display_name": "Python 3 (ipykernel)",
   "language": "python",
   "name": "python3"
  },
  "language_info": {
   "codemirror_mode": {
    "name": "ipython",
    "version": 3
   },
   "file_extension": ".py",
   "mimetype": "text/x-python",
   "name": "python",
   "nbconvert_exporter": "python",
   "pygments_lexer": "ipython3",
   "version": "3.9.12"
  }
 },
 "nbformat": 4,
 "nbformat_minor": 5
}
